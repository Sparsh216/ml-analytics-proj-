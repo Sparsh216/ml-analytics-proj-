{
 "cells": [
  {
   "cell_type": "code",
   "execution_count": 1,
   "id": "869f57ca",
   "metadata": {},
   "outputs": [],
   "source": [
    "import pandas as pd\n",
    "import requests\n",
    "from bs4 import BeautifulSoup"
   ]
  },
  {
   "cell_type": "code",
   "execution_count": 4,
   "id": "29dcbc4c",
   "metadata": {},
   "outputs": [],
   "source": [
    "webpage=requests.get('https://internshala.com/internships/work-from-home-jobs/page-1').text"
   ]
  },
  {
   "cell_type": "code",
   "execution_count": 5,
   "id": "8dcc7901",
   "metadata": {},
   "outputs": [],
   "source": [
    "soup=BeautifulSoup(webpage,'lxml')"
   ]
  },
  {
   "cell_type": "code",
   "execution_count": 22,
   "id": "d79d54c7",
   "metadata": {},
   "outputs": [],
   "source": [
    "company=soup.find_all('div', class_=\"container-fluid\")"
   ]
  },
  {
   "cell_type": "code",
   "execution_count": 23,
   "id": "e20cbe00",
   "metadata": {},
   "outputs": [
    {
     "data": {
      "text/plain": [
       "43"
      ]
     },
     "execution_count": 23,
     "metadata": {},
     "output_type": "execute_result"
    }
   ],
   "source": [
    "len(company)"
   ]
  },
  {
   "cell_type": "code",
   "execution_count": 24,
   "id": "5e1f2bca",
   "metadata": {},
   "outputs": [
    {
     "name": "stdout",
     "output_type": "stream",
     "text": [
      "<a href=\"/internships\">Internships</a>\n",
      "<a id=\"reset_link\">Clear all</a>\n",
      "<a href=\"/internship/details/child-education-ambassador-let-39s-unite-for-child-rights-work-from-home-job-internship-at-smile-foundation1631696723\">Child Education Ambassador - Let's Unite For Child Rights</a>\n",
      "<a href=\"/internship/detail/teaching-work-from-home-job-internship-at-teach-for-india1631855035\">Teaching</a>\n",
      "<a href=\"/internship/detail/teaching-work-from-home-job-internship-at-teach-for-india1631787388\">Teaching</a>\n",
      "<a href=\"/internship/detail/customer-service-work-from-home-job-internship-at-times-internet1631855067\">Customer Service</a>\n",
      "<a href=\"/internship/detail/cry-campaigners-let-39s-unite-for-child-rights-openings-500-work-from-home-job-internship-at-cry-child-rights-and-you1631855461\">CRY Campaigners - Let's Unite For Child Rights (Openings: 500)</a>\n",
      "<a href=\"/internship/detail/marketing-work-from-home-job-internship-at-ciie-initiatives-iim-ahmedabad1631697634\">Marketing</a>\n",
      "<a href=\"/internship/detail/csir-net-content-development-life-science-chemical-science-work-from-home-job-internship-at-gradestack-learning-private-limited1631539163\">CSIR-NET Content Development (Life Science/Chemical Science)</a>\n",
      "<a href=\"/internship/detail/motion-graphics-work-from-home-job-internship-at-pocket-fm1631598666\">Motion Graphics</a>\n",
      "<a href=\"/internship/detail/young-conservationist-programme-work-from-home-job-internship-at-wwf-india1631621434\">Young Conservationist Programme</a>\n",
      "<a href=\"/internship/detail/proofreading-sanskrit-work-from-home-job-internship-at-iit-bombay1631533714\">Proofreading (Sanskrit)</a>\n",
      "<a href=\"/internship/detail/business-development-sales-work-from-home-job-internship-at-economic-times-edge1631549010\">Business Development (Sales)</a>\n",
      "<a href=\"/internship/detail/teaching-work-from-home-job-internship-at-teach-for-india1631543882\">Teaching</a>\n",
      "<a href=\"/internship/detail/teaching-work-from-home-job-internship-at-teach-for-india1631456643\">Teaching</a>\n",
      "<a href=\"/internship/detail/content-creation-work-from-home-job-internship-at-teach-for-india1631456986\">Content Creation</a>\n",
      "<a href=\"/internship/detail/volunteering-work-from-home-job-internship-at-teach-for-india1631428916\">Volunteering</a>\n",
      "<a href=\"/internship/detail/video-creation-editing-work-from-home-job-internship-at-iit-bombay1631375902\">Video Creation &amp; Editing</a>\n",
      "<a href=\"/internship/detail/reactjs-development-work-from-home-job-internship-at-iit-bombay1631375871\">React.js Development</a>\n",
      "<a href=\"/internship/detail/android-app-development-work-from-home-job-internship-at-iit-bombay1631375830\">Android App Development</a>\n",
      "<a href=\"/internship/detail/ruby-on-rails-development-work-from-home-job-internship-at-iit-bombay1631375783\">Ruby On Rails Development</a>\n",
      "<a href=\"/internship/detail/qa-engineering-work-from-home-job-internship-at-iit-bombay1631375736\">QA Engineering</a>\n",
      "<a href=\"/internship/detail/graphic-design-work-from-home-job-internship-at-iit-bombay1631375532\">Graphic Design</a>\n",
      "<a href=\"/internship/detail/fundraising-work-from-home-job-internship-at-wwf-india1631172940\">Fundraising</a>\n",
      "<a href=\"/internship/detail/teaching-work-from-home-job-internship-at-pratham-education-foundation1631105702\">Teaching</a>\n",
      "<a href=\"/internship/detail/motion-graphics-kannada-work-from-home-job-internship-at-pocket-fm1631031585\">Motion Graphics (Kannada)</a>\n",
      "<a href=\"/internship/detail/software-project-management-work-from-home-job-internship-at-iit-bombay1631071471\">Software Project Management</a>\n",
      "<a href=\"/internship/detail/proofreading-work-from-home-job-internship-at-hungama-digital-media-entertainment-private-limited1631017822\">Proofreading</a>\n",
      "<a href=\"/internship/detail/backend-development-nodejs-work-from-home-job-internship-at-iit-bombay1631009738\">Backend Development (Node.js)</a>\n",
      "<a href=\"/internship/detail/marketing-work-from-home-job-internship-at-zoomcar1631006158\">Marketing</a>\n",
      "<a href=\"/internship/detail/qt-development-work-from-home-job-internship-at-iit-bombay1630906203\">QT Development</a>\n",
      "<a href=\"/internship/detail/business-development-sales-work-from-home-job-internship-at-champions-learns1632054389\">Business Development (Sales)</a>\n",
      "<a href=\"/internship/detail/content-writing-work-from-home-job-internship-at-softdigits-technologies1632054337\">Content Writing</a>\n",
      "<a href=\"/internship/detail/mobile-app-development-work-from-home-job-internship-at-adore-india1632054051\">Mobile App Development</a>\n",
      "<a href=\"/internship/detail/fundraising-work-from-home-job-internship-at-light-de-literacy1632053402\">Fundraising</a>\n",
      "<a href=\"/internship/detail/online-teaching-work-from-home-job-internship-at-tutor-here1632053037\">Online Teaching</a>\n",
      "<a href=\"/internship/detail/poster-making-work-from-home-job-internship-at-triluxo-technologies-private-limited1632053021\">Poster Making</a>\n",
      "<a href=\"/internship/detail/teaching-piano-instrumental-music-work-from-home-job-internship-at-triluxo-technologies-private-limited1632052986\">Teaching (Piano Instrumental Music)</a>\n",
      "<a href=\"/internship/detail/marketing-work-from-home-job-internship-at-tech-sells1632052910\">Marketing</a>\n",
      "<a href=\"/internship/detail/business-development-sales-work-from-home-job-internship-at-tech-sells1632052870\">Business Development (Sales)</a>\n",
      "<a href=\"/internship/detail/web-development-work-from-home-job-internship-at-gamers-prestige1632052607\">Web Development</a>\n",
      "<a href=\"/internship/detail/graphic-design-work-from-home-job-internship-at-girlmantra1632052544\">Graphic Design</a>\n",
      "<a href=\"/internships\">Internship in India</a>\n"
     ]
    }
   ],
   "source": [
    "name=[]\n",
    "for i in company:\n",
    "    print(i.find('a'))"
   ]
  },
  {
   "cell_type": "code",
   "execution_count": null,
   "id": "184e48b0",
   "metadata": {},
   "outputs": [],
   "source": []
  }
 ],
 "metadata": {
  "kernelspec": {
   "display_name": "Python 3 (ipykernel)",
   "language": "python",
   "name": "python3"
  },
  "language_info": {
   "codemirror_mode": {
    "name": "ipython",
    "version": 3
   },
   "file_extension": ".py",
   "mimetype": "text/x-python",
   "name": "python",
   "nbconvert_exporter": "python",
   "pygments_lexer": "ipython3",
   "version": "3.9.5"
  }
 },
 "nbformat": 4,
 "nbformat_minor": 5
}
