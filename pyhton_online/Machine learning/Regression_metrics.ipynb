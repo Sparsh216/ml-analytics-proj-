{
 "cells": [
  {
   "cell_type": "code",
   "execution_count": 1,
   "id": "395931c3",
   "metadata": {},
   "outputs": [],
   "source": [
    "import pandas as pd\n",
    "import numpy as np"
   ]
  },
  {
   "cell_type": "code",
   "execution_count": 2,
   "id": "1faa9b64",
   "metadata": {},
   "outputs": [
    {
     "data": {
      "text/html": [
       "<div>\n",
       "<style scoped>\n",
       "    .dataframe tbody tr th:only-of-type {\n",
       "        vertical-align: middle;\n",
       "    }\n",
       "\n",
       "    .dataframe tbody tr th {\n",
       "        vertical-align: top;\n",
       "    }\n",
       "\n",
       "    .dataframe thead th {\n",
       "        text-align: right;\n",
       "    }\n",
       "</style>\n",
       "<table border=\"1\" class=\"dataframe\">\n",
       "  <thead>\n",
       "    <tr style=\"text-align: right;\">\n",
       "      <th></th>\n",
       "      <th>cgpa</th>\n",
       "      <th>package</th>\n",
       "    </tr>\n",
       "  </thead>\n",
       "  <tbody>\n",
       "    <tr>\n",
       "      <th>0</th>\n",
       "      <td>6.89</td>\n",
       "      <td>3.26</td>\n",
       "    </tr>\n",
       "    <tr>\n",
       "      <th>1</th>\n",
       "      <td>5.12</td>\n",
       "      <td>1.98</td>\n",
       "    </tr>\n",
       "    <tr>\n",
       "      <th>2</th>\n",
       "      <td>7.82</td>\n",
       "      <td>3.25</td>\n",
       "    </tr>\n",
       "    <tr>\n",
       "      <th>3</th>\n",
       "      <td>7.42</td>\n",
       "      <td>3.67</td>\n",
       "    </tr>\n",
       "    <tr>\n",
       "      <th>4</th>\n",
       "      <td>6.94</td>\n",
       "      <td>3.57</td>\n",
       "    </tr>\n",
       "  </tbody>\n",
       "</table>\n",
       "</div>"
      ],
      "text/plain": [
       "   cgpa  package\n",
       "0  6.89     3.26\n",
       "1  5.12     1.98\n",
       "2  7.82     3.25\n",
       "3  7.42     3.67\n",
       "4  6.94     3.57"
      ]
     },
     "execution_count": 2,
     "metadata": {},
     "output_type": "execute_result"
    }
   ],
   "source": [
    "df=pd.read_csv(\"https://github.com/campusx-official/100-days-of-machine-learning/raw/main/day48-simple-linear-regression/placement.csv\")\n",
    "df.head()"
   ]
  },
  {
   "cell_type": "code",
   "execution_count": 9,
   "id": "ab8259d0",
   "metadata": {},
   "outputs": [],
   "source": [
    "X=df.iloc[:,0:1].values\n",
    "y=df.iloc[:,-1].values"
   ]
  },
  {
   "cell_type": "code",
   "execution_count": 10,
   "id": "d3967476",
   "metadata": {},
   "outputs": [
    {
     "data": {
      "text/plain": [
       "array([[6.89],\n",
       "       [5.12],\n",
       "       [7.82],\n",
       "       [7.42],\n",
       "       [6.94],\n",
       "       [7.89],\n",
       "       [6.73],\n",
       "       [6.75],\n",
       "       [6.09],\n",
       "       [8.31],\n",
       "       [5.32],\n",
       "       [6.61],\n",
       "       [8.94],\n",
       "       [6.93],\n",
       "       [7.73],\n",
       "       [7.25],\n",
       "       [6.84],\n",
       "       [5.38],\n",
       "       [6.94],\n",
       "       [7.48],\n",
       "       [7.28],\n",
       "       [6.85],\n",
       "       [6.14],\n",
       "       [6.19],\n",
       "       [6.53],\n",
       "       [7.28],\n",
       "       [8.31],\n",
       "       [5.42],\n",
       "       [5.94],\n",
       "       [7.15],\n",
       "       [7.36],\n",
       "       [8.1 ],\n",
       "       [6.96],\n",
       "       [6.35],\n",
       "       [7.34],\n",
       "       [6.87],\n",
       "       [5.99],\n",
       "       [5.9 ],\n",
       "       [8.62],\n",
       "       [7.43],\n",
       "       [9.38],\n",
       "       [6.89],\n",
       "       [5.95],\n",
       "       [7.66],\n",
       "       [5.09],\n",
       "       [7.87],\n",
       "       [6.07],\n",
       "       [5.84],\n",
       "       [8.63],\n",
       "       [8.87],\n",
       "       [9.58],\n",
       "       [9.26],\n",
       "       [8.37],\n",
       "       [6.47],\n",
       "       [6.86],\n",
       "       [8.2 ],\n",
       "       [5.84],\n",
       "       [6.6 ],\n",
       "       [6.92],\n",
       "       [7.56],\n",
       "       [5.61],\n",
       "       [5.48],\n",
       "       [6.34],\n",
       "       [9.16],\n",
       "       [7.36],\n",
       "       [7.6 ],\n",
       "       [5.11],\n",
       "       [6.51],\n",
       "       [7.56],\n",
       "       [7.3 ],\n",
       "       [5.79],\n",
       "       [7.47],\n",
       "       [7.78],\n",
       "       [8.44],\n",
       "       [6.85],\n",
       "       [6.97],\n",
       "       [6.94],\n",
       "       [8.99],\n",
       "       [6.59],\n",
       "       [7.18],\n",
       "       [7.63],\n",
       "       [6.1 ],\n",
       "       [5.58],\n",
       "       [8.44],\n",
       "       [4.26],\n",
       "       [4.79],\n",
       "       [7.61],\n",
       "       [8.09],\n",
       "       [4.73],\n",
       "       [6.42],\n",
       "       [7.11],\n",
       "       [6.22],\n",
       "       [7.9 ],\n",
       "       [6.79],\n",
       "       [5.83],\n",
       "       [6.63],\n",
       "       [7.11],\n",
       "       [5.98],\n",
       "       [7.69],\n",
       "       [6.61],\n",
       "       [7.95],\n",
       "       [6.71],\n",
       "       [5.13],\n",
       "       [7.05],\n",
       "       [7.62],\n",
       "       [6.66],\n",
       "       [6.13],\n",
       "       [6.33],\n",
       "       [7.76],\n",
       "       [7.77],\n",
       "       [8.18],\n",
       "       [5.42],\n",
       "       [8.58],\n",
       "       [6.94],\n",
       "       [5.84],\n",
       "       [8.35],\n",
       "       [9.04],\n",
       "       [7.12],\n",
       "       [7.4 ],\n",
       "       [7.39],\n",
       "       [5.23],\n",
       "       [6.5 ],\n",
       "       [5.12],\n",
       "       [5.1 ],\n",
       "       [6.06],\n",
       "       [7.33],\n",
       "       [5.91],\n",
       "       [6.78],\n",
       "       [7.93],\n",
       "       [7.29],\n",
       "       [6.68],\n",
       "       [6.37],\n",
       "       [5.84],\n",
       "       [6.05],\n",
       "       [7.2 ],\n",
       "       [6.1 ],\n",
       "       [5.64],\n",
       "       [7.14],\n",
       "       [7.91],\n",
       "       [7.19],\n",
       "       [7.91],\n",
       "       [6.76],\n",
       "       [6.93],\n",
       "       [4.85],\n",
       "       [6.17],\n",
       "       [5.84],\n",
       "       [6.07],\n",
       "       [5.66],\n",
       "       [7.57],\n",
       "       [8.28],\n",
       "       [6.3 ],\n",
       "       [6.12],\n",
       "       [7.37],\n",
       "       [7.94],\n",
       "       [7.08],\n",
       "       [6.98],\n",
       "       [7.38],\n",
       "       [6.47],\n",
       "       [5.95],\n",
       "       [8.71],\n",
       "       [7.13],\n",
       "       [7.3 ],\n",
       "       [5.53],\n",
       "       [8.93],\n",
       "       [9.06],\n",
       "       [8.21],\n",
       "       [8.6 ],\n",
       "       [8.13],\n",
       "       [8.65],\n",
       "       [9.31],\n",
       "       [6.22],\n",
       "       [8.01],\n",
       "       [6.93],\n",
       "       [6.75],\n",
       "       [7.32],\n",
       "       [7.04],\n",
       "       [6.29],\n",
       "       [7.09],\n",
       "       [8.15],\n",
       "       [7.14],\n",
       "       [6.19],\n",
       "       [8.22],\n",
       "       [5.88],\n",
       "       [7.28],\n",
       "       [7.88],\n",
       "       [6.31],\n",
       "       [7.84],\n",
       "       [6.26],\n",
       "       [7.35],\n",
       "       [8.11],\n",
       "       [6.19],\n",
       "       [7.28],\n",
       "       [8.25],\n",
       "       [4.57],\n",
       "       [7.89],\n",
       "       [6.93],\n",
       "       [5.89],\n",
       "       [7.21],\n",
       "       [7.63],\n",
       "       [6.22]])"
      ]
     },
     "execution_count": 10,
     "metadata": {},
     "output_type": "execute_result"
    }
   ],
   "source": [
    "X"
   ]
  },
  {
   "cell_type": "code",
   "execution_count": 11,
   "id": "734003ed",
   "metadata": {},
   "outputs": [],
   "source": [
    "from sklearn.model_selection import train_test_split\n",
    "X_train,X_test,y_train,y_test=train_test_split(X,y,test_size=0.2,random_state=2)"
   ]
  },
  {
   "cell_type": "code",
   "execution_count": 12,
   "id": "a2d4eb52",
   "metadata": {},
   "outputs": [
    {
     "data": {
      "text/plain": [
       "array([[7.14],\n",
       "       [8.93],\n",
       "       [5.42],\n",
       "       [5.1 ],\n",
       "       [7.77],\n",
       "       [6.76],\n",
       "       [6.89],\n",
       "       [6.68],\n",
       "       [7.91],\n",
       "       [7.89],\n",
       "       [8.71],\n",
       "       [7.95],\n",
       "       [6.61],\n",
       "       [6.26],\n",
       "       [6.53],\n",
       "       [6.42],\n",
       "       [5.11],\n",
       "       [6.09],\n",
       "       [6.93],\n",
       "       [7.04],\n",
       "       [5.94],\n",
       "       [6.05],\n",
       "       [5.83],\n",
       "       [5.95],\n",
       "       [9.31],\n",
       "       [5.58],\n",
       "       [7.88],\n",
       "       [6.13],\n",
       "       [7.76],\n",
       "       [4.85],\n",
       "       [6.19],\n",
       "       [8.6 ],\n",
       "       [6.07],\n",
       "       [7.18],\n",
       "       [5.12],\n",
       "       [7.39],\n",
       "       [8.25],\n",
       "       [8.28],\n",
       "       [7.13],\n",
       "       [7.35],\n",
       "       [5.66],\n",
       "       [5.99],\n",
       "       [8.01],\n",
       "       [7.14],\n",
       "       [6.34],\n",
       "       [6.89],\n",
       "       [5.42],\n",
       "       [6.47],\n",
       "       [7.69],\n",
       "       [7.4 ],\n",
       "       [7.28],\n",
       "       [5.95],\n",
       "       [7.38],\n",
       "       [6.93],\n",
       "       [8.99],\n",
       "       [7.36],\n",
       "       [7.08],\n",
       "       [5.38],\n",
       "       [7.56],\n",
       "       [8.22],\n",
       "       [5.84],\n",
       "       [6.78],\n",
       "       [7.19],\n",
       "       [7.28],\n",
       "       [6.79],\n",
       "       [6.12],\n",
       "       [6.85],\n",
       "       [8.2 ],\n",
       "       [6.84],\n",
       "       [7.37],\n",
       "       [6.22],\n",
       "       [6.61],\n",
       "       [5.23],\n",
       "       [7.21],\n",
       "       [6.85],\n",
       "       [6.19],\n",
       "       [7.3 ],\n",
       "       [6.17],\n",
       "       [5.89],\n",
       "       [8.09],\n",
       "       [7.11],\n",
       "       [4.26],\n",
       "       [6.94],\n",
       "       [5.98],\n",
       "       [6.71],\n",
       "       [7.33],\n",
       "       [9.06],\n",
       "       [6.1 ],\n",
       "       [5.48],\n",
       "       [6.1 ],\n",
       "       [7.56],\n",
       "       [7.29],\n",
       "       [5.84],\n",
       "       [7.48],\n",
       "       [7.61],\n",
       "       [5.79],\n",
       "       [5.61],\n",
       "       [7.34],\n",
       "       [9.38],\n",
       "       [7.91],\n",
       "       [6.94],\n",
       "       [7.94],\n",
       "       [8.31],\n",
       "       [6.96],\n",
       "       [6.93],\n",
       "       [7.11],\n",
       "       [8.44],\n",
       "       [8.18],\n",
       "       [6.66],\n",
       "       [8.44],\n",
       "       [7.12],\n",
       "       [6.3 ],\n",
       "       [5.84],\n",
       "       [6.98],\n",
       "       [7.63],\n",
       "       [5.64],\n",
       "       [7.43],\n",
       "       [8.87],\n",
       "       [7.84],\n",
       "       [5.84],\n",
       "       [9.58],\n",
       "       [8.37],\n",
       "       [7.63],\n",
       "       [6.31],\n",
       "       [6.5 ],\n",
       "       [8.11],\n",
       "       [6.07],\n",
       "       [4.73],\n",
       "       [7.3 ],\n",
       "       [6.51],\n",
       "       [7.28],\n",
       "       [6.92],\n",
       "       [6.35],\n",
       "       [8.62],\n",
       "       [7.05],\n",
       "       [9.26],\n",
       "       [6.33],\n",
       "       [6.22],\n",
       "       [6.94],\n",
       "       [5.13],\n",
       "       [8.13],\n",
       "       [5.9 ],\n",
       "       [9.04],\n",
       "       [6.06],\n",
       "       [7.57],\n",
       "       [8.1 ],\n",
       "       [9.16],\n",
       "       [5.84],\n",
       "       [7.89],\n",
       "       [6.63],\n",
       "       [7.09],\n",
       "       [5.53],\n",
       "       [6.75],\n",
       "       [7.62],\n",
       "       [6.97],\n",
       "       [7.66],\n",
       "       [6.14],\n",
       "       [7.78],\n",
       "       [7.25],\n",
       "       [8.65]])"
      ]
     },
     "execution_count": 12,
     "metadata": {},
     "output_type": "execute_result"
    }
   ],
   "source": [
    "X_train"
   ]
  },
  {
   "cell_type": "code",
   "execution_count": 13,
   "id": "85033979",
   "metadata": {},
   "outputs": [],
   "source": [
    "from sklearn.linear_model import LinearRegression\n",
    "lr=LinearRegression()"
   ]
  },
  {
   "cell_type": "code",
   "execution_count": 14,
   "id": "ff12782f",
   "metadata": {},
   "outputs": [
    {
     "data": {
      "text/plain": [
       "LinearRegression()"
      ]
     },
     "execution_count": 14,
     "metadata": {},
     "output_type": "execute_result"
    }
   ],
   "source": [
    "lr.fit(X_train,y_train)"
   ]
  },
  {
   "cell_type": "code",
   "execution_count": 15,
   "id": "0edd711a",
   "metadata": {},
   "outputs": [],
   "source": [
    "import matplotlib.pyplot as plt"
   ]
  },
  {
   "cell_type": "code",
   "execution_count": 17,
   "id": "fb12d110",
   "metadata": {},
   "outputs": [
    {
     "data": {
      "text/plain": [
       "Text(0, 0.5, 'Package')"
      ]
     },
     "execution_count": 17,
     "metadata": {},
     "output_type": "execute_result"
    },
    {
     "data": {
      "image/png": "[encoded data removed]",
      "text/plain": [
       "<Figure size 432x288 with 1 Axes>"
      ]
     },
     "metadata": {
      "needs_background": "light"
     },
     "output_type": "display_data"
    }
   ],
   "source": [
    "plt.scatter(df[\"cgpa\"],df[\"package\"])\n",
    "plt.plot(X_train,lr.predict(X_train),color=\"red\")\n",
    "plt.xlabel(\"CGPA\")\n",
    "plt.ylabel(\"Package\")"
   ]
  },
  {
   "cell_type": "code",
   "execution_count": 18,
   "id": "cd78eadd",
   "metadata": {},
   "outputs": [],
   "source": [
    "from sklearn.metrics import mean_absolute_error,mean_squared_error,r2_score"
   ]
  },
  {
   "cell_type": "code",
   "execution_count": 19,
   "id": "f83b7d80",
   "metadata": {},
   "outputs": [],
   "source": [
    "y_pred=lr.predict(X_test)"
   ]
  },
  {
   "cell_type": "code",
   "execution_count": 23,
   "id": "23ed3234",
   "metadata": {},
   "outputs": [
    {
     "data": {
      "text/plain": [
       "array([4.1 , 3.49, 2.08, 2.33, 1.94, 1.48, 1.86, 3.09, 4.21, 2.87, 3.65,\n",
       "       4.  , 2.89, 2.6 , 2.99, 3.25, 1.86, 3.67, 2.37, 3.42, 2.48, 3.65,\n",
       "       2.6 , 2.83, 4.08, 2.56, 3.58, 3.81, 4.09, 2.01, 3.63, 2.92, 3.51,\n",
       "       1.94, 2.21, 3.34, 3.34, 3.23, 2.01, 2.61])"
      ]
     },
     "execution_count": 23,
     "metadata": {},
     "output_type": "execute_result"
    }
   ],
   "source": [
    "y_test"
   ]
  },
  {
   "cell_type": "code",
   "execution_count": 24,
   "id": "21d865d2",
   "metadata": {},
   "outputs": [
    {
     "name": "stdout",
     "output_type": "stream",
     "text": [
      "MAE 0.2884710931878175\n"
     ]
    }
   ],
   "source": [
    "print(\"MAE\",mean_absolute_error(y_test,y_pred))#this is in the terms of LPA i.e our model do .28 lakh mistake on an average"
   ]
  },
  {
   "cell_type": "code",
   "execution_count": 26,
   "id": "6be36806",
   "metadata": {},
   "outputs": [
    {
     "name": "stdout",
     "output_type": "stream",
     "text": [
      "MSE 0.12129235313495527\n"
     ]
    }
   ],
   "source": [
    "print(\"MSE\",mean_squared_error(y_test,y_pred))#this is not in lPA"
   ]
  },
  {
   "cell_type": "code",
   "execution_count": 27,
   "id": "ff191d85",
   "metadata": {},
   "outputs": [
    {
     "name": "stdout",
     "output_type": "stream",
     "text": [
      "RMSE 0.34827051717731616\n"
     ]
    }
   ],
   "source": [
    "print(\"RMSE\",np.sqrt(mean_squared_error(y_test,y_pred)))# this is not in LPA"
   ]
  },
  {
   "cell_type": "code",
   "execution_count": 29,
   "id": "7ead7db6",
   "metadata": {},
   "outputs": [
    {
     "name": "stdout",
     "output_type": "stream",
     "text": [
      "r2 score 0.780730147510384\n"
     ]
    }
   ],
   "source": [
    "print(\"r2 score\",r2_score(y_test,y_pred))"
   ]
  },
  {
   "cell_type": "code",
   "execution_count": 30,
   "id": "626521a8",
   "metadata": {},
   "outputs": [
    {
     "data": {
      "text/plain": [
       "0.7749598882343415"
      ]
     },
     "execution_count": 30,
     "metadata": {},
     "output_type": "execute_result"
    }
   ],
   "source": [
    "#Adjusted r2 score\n",
    "r2=r2_score(y_test,y_pred)\n",
    "1-((1-r2)*(40-1)/(40-1-1))"
   ]
  },
  {
   "cell_type": "code",
   "execution_count": null,
   "id": "86fdcba7",
   "metadata": {},
   "outputs": [],
   "source": []
  }
 ],
 "metadata": {
  "kernelspec": {
   "display_name": "Python 3 (ipykernel)",
   "language": "python",
   "name": "python3"
  },
  "language_info": {
   "codemirror_mode": {
    "name": "ipython",
    "version": 3
   },
   "file_extension": ".py",
   "mimetype": "text/x-python",
   "name": "python",
   "nbconvert_exporter": "python",
   "pygments_lexer": "ipython3",
   "version": "3.9.5"
  }
 },
 "nbformat": 4,
 "nbformat_minor": 5
}
